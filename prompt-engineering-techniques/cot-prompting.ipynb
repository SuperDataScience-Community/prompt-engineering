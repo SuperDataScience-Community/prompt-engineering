{
 "cells": [
  {
   "cell_type": "markdown",
   "id": "e7242ccf",
   "metadata": {},
   "source": [
    "# Chain-of-Thought Prompting\n",
    "\n",
    "## Just a quick definition\n",
    "\n",
    "Chain-of-thought prompting is a technique in prompt engineering where the input prompt encourages the model to reason step-by-step, breaking down complex problems into intermediate steps to improve accuracy and transparency of its outputs."
   ]
  },
  {
   "cell_type": "code",
   "execution_count": null,
   "id": "a0bf7620",
   "metadata": {},
   "outputs": [],
   "source": [
    "import os\n",
    "from openai import OpenAI\n",
    "from IPython.display import display, Markdown\n",
    "from dotenv import load_dotenv\n",
    "load_dotenv()\n",
    "\n",
    "OPENAI_API_KEY = os.getenv(\"OPENAI_API_KEY\")\n",
    "if OPENAI_API_KEY is None:\n",
    "    raise ValueError(\"Please set the OPENAI_API_KEY environment variable.\")"
   ]
  },
  {
   "cell_type": "code",
   "execution_count": null,
   "id": "08371e9d",
   "metadata": {},
   "outputs": [],
   "source": [
    "from typing import Optional\n",
    "\n",
    "client = OpenAI()\n",
    "\n",
    "def get_response(prompt: str, model: str=\"gpt-4o-mini\") -> str:\n",
    "    response = client.responses.create(\n",
    "    model=model,\n",
    "    input=[\n",
    "        {\n",
    "            \"role\": \"user\",\n",
    "            \"content\": prompt\n",
    "        }\n",
    "    ]\n",
    "    )\n",
    "    return response.output_text"
   ]
  },
  {
   "cell_type": "code",
   "execution_count": null,
   "id": "64e1a1ee",
   "metadata": {},
   "outputs": [],
   "source": [
    "# Class to define prompt templates\n",
    "class PromptTemplate:\n",
    "    def __init__(self, template: str, input_variables: list[str] | str):\n",
    "        self.template = template\n",
    "        self.input_variables = input_variables\n",
    "\n",
    "    def render(self, **kwargs) -> str:\n",
    "        return self.template.format(**{k: kwargs[k] for k in self.input_variables})"
   ]
  },
  {
   "cell_type": "code",
   "execution_count": null,
   "id": "62d428e1",
   "metadata": {},
   "outputs": [],
   "source": [
    "basic_template = PromptTemplate(\n",
    "    template=\"Answer the following question concisely: {question}\",\n",
    "    input_variables=[\"question\"]\n",
    ")"
   ]
  },
  {
   "cell_type": "code",
   "execution_count": null,
   "id": "acf91751",
   "metadata": {},
   "outputs": [],
   "source": [
    "cot_template = PromptTemplate(\n",
    "    template=\"Answer the following question step-by-step in a clear and concise manner: {question}\",\n",
    "    input_variables=[\"question\"]\n",
    ")"
   ]
  },
  {
   "cell_type": "markdown",
   "id": "69591ffc",
   "metadata": {},
   "source": [
    "### 1. Basic Chain-of-Thought Prompting"
   ]
  },
  {
   "cell_type": "code",
   "execution_count": null,
   "id": "eb1cab0f",
   "metadata": {},
   "outputs": [],
   "source": [
    "question = \"If a train travels towards a city at 100 km/h, how long will it take to reach the city if it is 150 km away?\""
   ]
  },
  {
   "cell_type": "code",
   "execution_count": null,
   "id": "aa182816",
   "metadata": {},
   "outputs": [],
   "source": [
    "# basic response\n",
    "basic_prompt = basic_template.render(question=question)\n",
    "print(get_response(basic_prompt))"
   ]
  },
  {
   "cell_type": "code",
   "execution_count": null,
   "id": "7675f18e",
   "metadata": {},
   "outputs": [],
   "source": [
    "# cot response\n",
    "cot_prompt = cot_template.render(question=question)\n",
    "print(get_response(cot_prompt))"
   ]
  },
  {
   "cell_type": "markdown",
   "id": "710cbda1",
   "metadata": {},
   "source": [
    "### 2. Writing out clear step-by-step instructions"
   ]
  },
  {
   "cell_type": "code",
   "execution_count": null,
   "id": "66408b49",
   "metadata": {},
   "outputs": [],
   "source": [
    "cot_template = PromptTemplate(\n",
    "    template=\"\"\"\n",
    "    Solve the problem given to your step-by-step in a clear and concise manner.\n",
    "\n",
    "    Be sure to:\n",
    "    - Identify the key variables in the question\n",
    "    - Understand how each variable relates to the problem statement\n",
    "    - Break down the problem into smaller, manageable steps\n",
    "    - Solve each step systematically and clearly\n",
    "    - Give the final answer\n",
    "\"\"\",\n",
    "input_variables=[\"question\"]\n",
    ")"
   ]
  },
  {
   "cell_type": "code",
   "execution_count": null,
   "id": "e63d76a6",
   "metadata": {},
   "outputs": [],
   "source": [
    "# complex mathematical word problem\n",
    "question = \"A farmer has 3 times as many apples as oranges. If he gives away 12 apples, he will have twice as many apples as oranges. How many apples and oranges does he have?\""
   ]
  },
  {
   "cell_type": "code",
   "execution_count": null,
   "id": "42eca2b1",
   "metadata": {},
   "outputs": [],
   "source": [
    "PROMPT = cot_template.render(question=question)"
   ]
  },
  {
   "cell_type": "code",
   "execution_count": null,
   "id": "9162d104",
   "metadata": {},
   "outputs": [],
   "source": [
    "get_response(PROMPT)"
   ]
  }
 ],
 "metadata": {
  "language_info": {
   "name": "python"
  }
 },
 "nbformat": 4,
 "nbformat_minor": 5
}
