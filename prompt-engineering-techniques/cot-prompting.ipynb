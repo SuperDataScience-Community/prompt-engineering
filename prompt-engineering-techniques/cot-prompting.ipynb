{
 "cells": [
  {
   "cell_type": "markdown",
   "id": "e7242ccf",
   "metadata": {},
   "source": [
    "# Chain-of-Thought Prompting\n",
    "\n",
    "## Just a quick definition\n",
    "\n",
    "Chain-of-thought prompting is a technique in prompt engineering where the input prompt encourages the model to reason step-by-step, breaking down complex problems into intermediate steps to improve accuracy and transparency of its outputs."
   ]
  },
  {
   "cell_type": "code",
   "execution_count": 1,
   "id": "a0bf7620",
   "metadata": {},
   "outputs": [],
   "source": [
    "import os\n",
    "from openai import OpenAI\n",
    "from IPython.display import display, Markdown\n",
    "from dotenv import load_dotenv\n",
    "load_dotenv()\n",
    "\n",
    "OPENAI_API_KEY = os.getenv(\"OPENAI_API_KEY\")\n",
    "if OPENAI_API_KEY is None:\n",
    "    raise ValueError(\"Please set the OPENAI_API_KEY environment variable.\")"
   ]
  },
  {
   "cell_type": "code",
   "execution_count": 2,
   "id": "08371e9d",
   "metadata": {},
   "outputs": [],
   "source": [
    "# define response function\n",
    "\n",
    "client = OpenAI()\n",
    "\n",
    "def get_response(prompt: str, model: str=\"gpt-5-chat-latest\") -> str:\n",
    "    response = client.responses.create(\n",
    "        model=model,\n",
    "        input=[\n",
    "            {\"role\": \"user\",\"content\": prompt}\n",
    "        ]\n",
    "    )\n",
    "    return response.output_text\n"
   ]
  },
  {
   "cell_type": "code",
   "execution_count": 3,
   "id": "64e1a1ee",
   "metadata": {},
   "outputs": [],
   "source": [
    "# Class to define prompt templates\n",
    "class PromptTemplate:\n",
    "    def __init__(self, template: str, input_variables: list[str] | str):\n",
    "        self.template = template\n",
    "        self.input_variables = input_variables\n",
    "\n",
    "    def generate(self, **kwargs) -> str:\n",
    "        return self.template.format(**{k: kwargs[k] for k in self.input_variables})"
   ]
  },
  {
   "cell_type": "code",
   "execution_count": 4,
   "id": "62d428e1",
   "metadata": {},
   "outputs": [],
   "source": [
    "# basic template\n",
    "basic_template = PromptTemplate(\n",
    "    template=\"Answer the following question concisely: {question}\",\n",
    "    input_variables=[\"question\"]\n",
    ")"
   ]
  },
  {
   "cell_type": "code",
   "execution_count": 5,
   "id": "acf91751",
   "metadata": {},
   "outputs": [],
   "source": [
    "# chain-of-thought template\n",
    "cot_template = PromptTemplate(\n",
    "    template=\"Answer the following question step-by-step in a clear and concise manner: {question}\",\n",
    "    input_variables=[\"question\"]\n",
    ")"
   ]
  },
  {
   "cell_type": "markdown",
   "id": "69591ffc",
   "metadata": {},
   "source": [
    "### 1. Basic Chain-of-Thought Prompting"
   ]
  },
  {
   "cell_type": "code",
   "execution_count": 6,
   "id": "dab3381c",
   "metadata": {},
   "outputs": [],
   "source": [
    "# question\n",
    "question = \"If a train travels towards a city at 100 km/h, how long will it take to reach the city if it is 150 km away?\""
   ]
  },
  {
   "cell_type": "code",
   "execution_count": 7,
   "id": "c75beee8",
   "metadata": {},
   "outputs": [
    {
     "name": "stdout",
     "output_type": "stream",
     "text": [
      "Time = Distance ÷ Speed = \\( \\tfrac{150}{100} = 1.5 \\) hours  \n",
      "\n",
      "**Answer:** It will take **1.5 hours (1 hour 30 minutes)** to reach the city.\n"
     ]
    }
   ],
   "source": [
    "# answer using basic template\n",
    "print(get_response(basic_template.generate(question=question)))"
   ]
  },
  {
   "cell_type": "code",
   "execution_count": 8,
   "id": "1f58860c",
   "metadata": {},
   "outputs": [
    {
     "name": "stdout",
     "output_type": "stream",
     "text": [
      "Okay, let’s solve this step by step:\n",
      "\n",
      "**Step 1: Identify what’s given.**  \n",
      "- Speed of the train = 100 km/h  \n",
      "- Distance to the city = 150 km  \n",
      "\n",
      "**Step 2: Recall the formula for time.**  \n",
      "\\[\n",
      "\\text{Time} = \\frac{\\text{Distance}}{\\text{Speed}}\n",
      "\\]\n",
      "\n",
      "**Step 3: Substitute the values.**  \n",
      "\\[\n",
      "\\text{Time} = \\frac{150}{100} = 1.5 \\, \\text{hours}\n",
      "\\]\n",
      "\n",
      "**Step 4: Convert to minutes (if needed).**  \n",
      "1 hour = 60 minutes  \n",
      "0.5 hour = 30 minutes  \n",
      "So, 1.5 hours = 1 hour 30 minutes.\n",
      "\n",
      "---\n",
      "\n",
      "✅ **Final Answer:** The train will take **1.5 hours (1 hour 30 minutes)** to reach the city.  \n",
      "\n",
      "Would you like me to also show this on a simple distance–time chart for clear visualization?\n"
     ]
    }
   ],
   "source": [
    "# answer using cot template\n",
    "print(get_response(cot_template.generate(question=question)))"
   ]
  },
  {
   "cell_type": "markdown",
   "id": "710cbda1",
   "metadata": {},
   "source": [
    "### 2. Writing out clear step-by-step instructions"
   ]
  },
  {
   "cell_type": "code",
   "execution_count": 12,
   "id": "66408b49",
   "metadata": {},
   "outputs": [],
   "source": [
    "cot_template = PromptTemplate(\n",
    "    template=\"\"\"\n",
    "    Solve the problem given to your step-by-step in a clear and concise manner.\n",
    "\n",
    "    Be sure to:\n",
    "    - Identify the key variables in the question\n",
    "    - Understand how each variable relates to the problem statement\n",
    "    - Break down the problem into smaller, manageable steps\n",
    "    - Solve each step systematically and clearly\n",
    "    - Give the final answer\n",
    "\n",
    "    Question:\n",
    "    {question}\n",
    "\"\"\",\n",
    "input_variables=[\"question\"]\n",
    ")"
   ]
  },
  {
   "cell_type": "code",
   "execution_count": 13,
   "id": "e63d76a6",
   "metadata": {},
   "outputs": [],
   "source": [
    "# complex mathematical word problem\n",
    "question = \"A farmer has 3 times as many apples as oranges. If he gives away 12 apples, he will have twice as many apples as oranges. How many apples and oranges does he have?\""
   ]
  },
  {
   "cell_type": "code",
   "execution_count": 14,
   "id": "54a69f45",
   "metadata": {},
   "outputs": [
    {
     "name": "stdout",
     "output_type": "stream",
     "text": [
      "Alright, let’s carefully solve this step by step.\n",
      "\n",
      "---\n",
      "\n",
      "### Step 1: Define the variables  \n",
      "Let:  \n",
      "- \\( A \\) = number of apples the farmer has  \n",
      "- \\( O \\) = number of oranges the farmer has  \n",
      "\n",
      "---\n",
      "\n",
      "### Step 2: Translate the problem into equations  \n",
      "1. *\"A farmer has 3 times as many apples as oranges\"*  \n",
      "   \\[\n",
      "   A = 3O\n",
      "   \\]\n",
      "\n",
      "2. *\"If he gives away 12 apples, he will have twice as many apples as oranges\"*  \n",
      "   After giving away 12 apples, the apples left are \\( A - 12 \\).  \n",
      "   This equals **twice the number of oranges**:  \n",
      "   \\[\n",
      "   A - 12 = 2O\n",
      "   \\]\n",
      "\n",
      "---\n",
      "\n",
      "### Step 3: Solve the system of equations  \n",
      "We now have two equations:  \n",
      "1. \\( A = 3O \\)  \n",
      "2. \\( A - 12 = 2O \\)  \n",
      "\n",
      "Substitute \\( A = 3O \\) into the second equation:  \n",
      "\\[\n",
      "3O - 12 = 2O\n",
      "\\]\n",
      "\n",
      "Simplify:  \n",
      "\\[\n",
      "O = 12\n",
      "\\]\n",
      "\n",
      "Now substitute \\( O = 12 \\) into \\( A = 3O \\):  \n",
      "\\[\n",
      "A = 3 \\times 12 = 36\n",
      "\\]\n",
      "\n",
      "---\n",
      "\n",
      "### Step 4: Verify the solution  \n",
      "- Apples = 36, Oranges = 12  \n",
      "- If he gives away 12 apples → \\( 36 - 12 = 24 \\) apples left  \n",
      "- Twice the number of oranges → \\( 2 \\times 12 = 24 \\)  \n",
      "✅ Condition is satisfied  \n",
      "\n",
      "---\n",
      "\n",
      "### ✅ Final Answer:  \n",
      "The farmer has **36 apples** and **12 oranges**.\n"
     ]
    }
   ],
   "source": [
    "print(get_response(cot_template.generate(question=question)))"
   ]
  }
 ],
 "metadata": {
  "kernelspec": {
   "display_name": "prompt-engineering",
   "language": "python",
   "name": "python3"
  },
  "language_info": {
   "codemirror_mode": {
    "name": "ipython",
    "version": 3
   },
   "file_extension": ".py",
   "mimetype": "text/x-python",
   "name": "python",
   "nbconvert_exporter": "python",
   "pygments_lexer": "ipython3",
   "version": "3.13.5"
  }
 },
 "nbformat": 4,
 "nbformat_minor": 5
}
