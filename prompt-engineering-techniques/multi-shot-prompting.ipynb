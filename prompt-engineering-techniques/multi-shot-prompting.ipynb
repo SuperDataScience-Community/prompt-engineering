{
 "cells": [
  {
   "cell_type": "markdown",
   "id": "0202fd01",
   "metadata": {},
   "source": [
    "# Multi-Shot Prompting and In-Context Learning\n",
    "\n",
    "## Just a quick definition\n",
    "\n",
    "**Multi-shot** prompting is a technique in which multiple examples are provided within a prompt to guide a language model’s response, improving its ability to generalize and perform tasks based on the demonstrated patterns."
   ]
  },
  {
   "cell_type": "code",
   "execution_count": null,
   "id": "eba07bba",
   "metadata": {},
   "outputs": [],
   "source": [
    "import os\n",
    "from openai import OpenAI\n",
    "from IPython.display import display, Markdown\n",
    "from dotenv import load_dotenv\n",
    "load_dotenv()\n",
    "\n",
    "OPENAI_API_KEY = os.getenv(\"OPENAI_API_KEY\")\n",
    "if OPENAI_API_KEY is None:\n",
    "    raise ValueError(\"Please set the OPENAI_API_KEY environment variable.\")"
   ]
  },
  {
   "cell_type": "code",
   "execution_count": null,
   "id": "9f8b3d7c",
   "metadata": {},
   "outputs": [],
   "source": [
    "from typing import Optional\n",
    "\n",
    "client = OpenAI()\n",
    "\n",
    "def get_response(prompt: str, model: str=\"gpt-4o-mini\") -> str:\n",
    "    response = client.responses.create(\n",
    "    model=model,\n",
    "    input=[\n",
    "        {\n",
    "            \"role\": \"user\",\n",
    "            \"content\": prompt\n",
    "        }\n",
    "    ]\n",
    "    )\n",
    "    return response.output_text"
   ]
  },
  {
   "cell_type": "markdown",
   "id": "31b3829b",
   "metadata": {},
   "source": [
    "### 1. Basic Multi-Shot Learning"
   ]
  },
  {
   "cell_type": "code",
   "execution_count": null,
   "id": "d1c6cc96",
   "metadata": {},
   "outputs": [
    {
     "data": {
      "text/markdown": [
       "A: Technology"
      ],
      "text/plain": [
       "<IPython.core.display.Markdown object>"
      ]
     },
     "metadata": {},
     "output_type": "display_data"
    }
   ],
   "source": [
    "PROMPT = \"\"\"\n",
    "\n",
    "Classify the following text into one of the following categories:\n",
    "\n",
    "1. Technology\n",
    "2. Science\n",
    "3. Art\n",
    "4. History\n",
    "\n",
    "Text: The advancements in quantum computing have the potential to revolutionize the field of cryptography, enabling faster processing and more secure communication methods.\n",
    "\n",
    "EXAMPLES\n",
    "\n",
    "Q: The invention of the printing press in the 15th century allowed for the mass production of books and the spread of knowledge.\n",
    "A: Technology\n",
    "\n",
    "Q: The discovery of penicillin in 1928 marked the beginning of modern antibiotics and has saved countless lives.\n",
    "A: Science\n",
    "\n",
    "Q: The Mona Lisa, painted by Leonardo da Vinci in the 16th century, is one of the most famous works of art in history.\n",
    "A: Art\n",
    "\n",
    "Q: The fall of the Berlin Wall in 1989 was a significant event in world history, symbolizing the end of the Cold War.\n",
    "A: History\n",
    "\n",
    "\"\"\"\n",
    "\n",
    "response_text = get_response(PROMPT)\n",
    "display(Markdown(response_text))"
   ]
  },
  {
   "cell_type": "markdown",
   "id": "29cdbb33",
   "metadata": {},
   "source": [
    "### 2. Prompt Templates"
   ]
  },
  {
   "cell_type": "code",
   "execution_count": 1,
   "id": "8e3973f7",
   "metadata": {},
   "outputs": [],
   "source": [
    "# Class to define prompt templates\n",
    "class PromptTemplate:\n",
    "    def __init__(self, template: str, input_variables: list[str] | str):\n",
    "        self.template = template\n",
    "        self.input_variables = input_variables\n",
    "\n",
    "    def render(self, **kwargs) -> str:\n",
    "        return self.template.format(**{k: kwargs[k] for k in self.input_variables})"
   ]
  },
  {
   "cell_type": "code",
   "execution_count": 2,
   "id": "66fb9ca7",
   "metadata": {},
   "outputs": [],
   "source": [
    "# Basic prompt template\n",
    "basic_template = PromptTemplate(\n",
    "    template=\"Give me a 1 sentence introduction to the following topic: {topic}\",\n",
    "    input_variables=[\"topic\"]\n",
    ")"
   ]
  },
  {
   "cell_type": "code",
   "execution_count": 3,
   "id": "189a3ba9",
   "metadata": {},
   "outputs": [],
   "source": [
    "# Advanced prompt template\n",
    "advanced_template = PromptTemplate(\n",
    "    template=\"Given my age: {age}, height: {height}, and weight: {weight}, provide a brief health assessment.\",\n",
    "    input_variables=[\"age\", \"height\", \"weight\"]\n",
    ")"
   ]
  },
  {
   "cell_type": "code",
   "execution_count": 6,
   "id": "bba27936",
   "metadata": {},
   "outputs": [
    {
     "data": {
      "text/plain": [
       "'Give me a 1 sentence introduction to the following topic: Prompt Engineering'"
      ]
     },
     "execution_count": 6,
     "metadata": {},
     "output_type": "execute_result"
    }
   ],
   "source": [
    "basic_template.render(topic=\"Prompt Engineering\")"
   ]
  },
  {
   "cell_type": "code",
   "execution_count": 7,
   "id": "e3e244c2",
   "metadata": {},
   "outputs": [
    {
     "data": {
      "text/plain": [
       "'Given my age: 30, height: 5\\'9\", and weight: 160 lbs, provide a brief health assessment.'"
      ]
     },
     "execution_count": 7,
     "metadata": {},
     "output_type": "execute_result"
    }
   ],
   "source": [
    "advanced_template.render(age=30, height=\"5'9\\\"\", weight=\"160 lbs\")"
   ]
  },
  {
   "cell_type": "markdown",
   "id": "5a8697c2",
   "metadata": {},
   "source": [
    "### 3. Advanced Multi-Shot Learning"
   ]
  },
  {
   "cell_type": "code",
   "execution_count": null,
   "id": "ebb04e3e",
   "metadata": {},
   "outputs": [],
   "source": [
    "# define our template\n",
    "multi_shot_template = PromptTemplate(\n",
    "    template=\"\"\"\n",
    "    Perform the specified task on the given text.\n",
    "        \n",
    "    Examples:\n",
    "    Text: I love this product! It's amazing.\n",
    "    Task: sentiment\n",
    "    Result: Positive\n",
    "    \n",
    "    Text: Bonjour, comment allez-vous?\n",
    "    Task: language\n",
    "    Result: French\n",
    "    \n",
    "    Now, perform the following task:\n",
    "    Text: {input_text}\n",
    "    Task: {task}\n",
    "    Result:\n",
    "\n",
    "\"\"\",\n",
    "input_variables=[\"input_text\", \"task\"]\n",
    ")"
   ]
  },
  {
   "cell_type": "code",
   "execution_count": null,
   "id": "6a334ca3",
   "metadata": {},
   "outputs": [],
   "source": [
    "PROMPT1 = multi_shot_template.render(input_text=\"I love this product! It's amazing.\", task=\"sentiment\")\n",
    "PROMPT2 = multi_shot_template.render(input_text=\"Bonjour, comment allez-vous?\", task=\"language\")"
   ]
  },
  {
   "cell_type": "code",
   "execution_count": null,
   "id": "bb585afd",
   "metadata": {},
   "outputs": [],
   "source": [
    "get_response()"
   ]
  }
 ],
 "metadata": {
  "kernelspec": {
   "display_name": "prompt-engineering",
   "language": "python",
   "name": "python3"
  },
  "language_info": {
   "codemirror_mode": {
    "name": "ipython",
    "version": 3
   },
   "file_extension": ".py",
   "mimetype": "text/x-python",
   "name": "python",
   "nbconvert_exporter": "python",
   "pygments_lexer": "ipython3",
   "version": "3.13.7"
  }
 },
 "nbformat": 4,
 "nbformat_minor": 5
}
