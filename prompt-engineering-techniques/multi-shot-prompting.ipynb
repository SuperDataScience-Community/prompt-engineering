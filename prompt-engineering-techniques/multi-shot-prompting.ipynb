{
 "cells": [
  {
   "cell_type": "markdown",
   "id": "0202fd01",
   "metadata": {},
   "source": [
    "# Multi-Shot Prompting and In-Context Learning\n",
    "\n",
    "## Just a quick definition\n",
    "\n",
    "**Multi-shot** prompting is a technique in which multiple examples are provided within a prompt to guide a language model’s response, improving its ability to generalize and perform tasks based on the demonstrated patterns."
   ]
  },
  {
   "cell_type": "code",
   "execution_count": 1,
   "id": "eba07bba",
   "metadata": {},
   "outputs": [],
   "source": [
    "import os\n",
    "from openai import OpenAI\n",
    "from IPython.display import display, Markdown\n",
    "from dotenv import load_dotenv\n",
    "load_dotenv()\n",
    "\n",
    "OPENAI_API_KEY = os.getenv(\"OPENAI_API_KEY\")\n",
    "if OPENAI_API_KEY is None:\n",
    "    raise ValueError(\"Please set the OPENAI_API_KEY environment variable.\")"
   ]
  },
  {
   "cell_type": "code",
   "execution_count": 2,
   "id": "9f8b3d7c",
   "metadata": {},
   "outputs": [],
   "source": [
    "# define response function\n",
    "\n",
    "client = OpenAI()\n",
    "\n",
    "def get_response(prompt: str, model: str=\"gpt-5-chat-latest\") -> str:\n",
    "    response = client.responses.create(\n",
    "        model=model,\n",
    "        input=[\n",
    "            {\"role\": \"user\",\"content\": prompt}\n",
    "        ]\n",
    "    )\n",
    "    return response.output_text\n"
   ]
  },
  {
   "cell_type": "markdown",
   "id": "31b3829b",
   "metadata": {},
   "source": [
    "### 1. Basic Multi-Shot Learning"
   ]
  },
  {
   "cell_type": "code",
   "execution_count": 3,
   "id": "d1c6cc96",
   "metadata": {},
   "outputs": [
    {
     "data": {
      "text/markdown": [
       "A: Technology"
      ],
      "text/plain": [
       "<IPython.core.display.Markdown object>"
      ]
     },
     "metadata": {},
     "output_type": "display_data"
    }
   ],
   "source": [
    "PROMPT = \"\"\"\n",
    "\n",
    "Classify the following text into one of the following categories:\n",
    "\n",
    "1. Technology\n",
    "2. Science\n",
    "3. Art\n",
    "4. History\n",
    "\n",
    "Text: The advancements in quantum computing have the potential to revolutionize the field of cryptography, enabling faster processing and more secure communication methods.\n",
    "\n",
    "EXAMPLES\n",
    "\n",
    "Q: The invention of the printing press in the 15th century allowed for the mass production of books and the spread of knowledge.\n",
    "A: Technology\n",
    "\n",
    "Q: The discovery of penicillin in 1928 marked the beginning of modern antibiotics and has saved countless lives.\n",
    "A: Science\n",
    "\n",
    "Q: The Mona Lisa, painted by Leonardo da Vinci in the 16th century, is one of the most famous works of art in history.\n",
    "A: Art\n",
    "\n",
    "Q: The fall of the Berlin Wall in 1989 was a significant event in world history, symbolizing the end of the Cold War.\n",
    "A: History\n",
    "\n",
    "\"\"\"\n",
    "\n",
    "# get response\n",
    "response_text = get_response(PROMPT, model=\"gpt-5-chat-latest\")\n",
    "display(Markdown(response_text))"
   ]
  },
  {
   "cell_type": "markdown",
   "id": "5a96b04c",
   "metadata": {},
   "source": [
    "### 2. In-Context Learning of Tone and Styles"
   ]
  },
  {
   "cell_type": "code",
   "execution_count": 4,
   "id": "886e888f",
   "metadata": {},
   "outputs": [],
   "source": [
    "PROMPT = \"\"\"\n",
    "You are a social media copywriter for the fictional company \"BrightWave Electronics.\" Your task is to write social media posts that reflect the company's unique tone and style.\n",
    "\n",
    "Tone: Friendly, upbeat, and approachable. Posts should inspire excitement about technology and innovation, while remaining accessible to a broad audience.\n",
    "\n",
    "Style: Use concise sentences, positive language, and occasional emojis to convey enthusiasm. Posts should highlight product benefits, company values, and community engagement. Avoid jargon and keep the message clear and engaging.\n",
    "\n",
    "EXAMPLES\n",
    "\n",
    "Q: Post about announcing our new wireless earbuds\n",
    "A: Announcing our new wireless earbuds! Experience crystal-clear sound and all-day comfort. Ready to upgrade your listening? 🎧✨ #BrightWaveElectronics\n",
    "\n",
    "Q: Post about our commitment to sustainability\n",
    "A: We're committed to a sustainable future! 🌍💚 At BrightWave Electronics, we prioritize eco-friendly materials and energy-efficient designs. Join us in making a positive impact! #SustainabilityMatters\n",
    "\n",
    "Q: Post about our community engagement initiatives\n",
    "A: At BrightWave Electronics, we believe in giving back! 💙✨ We're proud to support local schools and organizations through technology donations and educational programs. Together, we can make a difference! #CommunityFirst\n",
    "\n",
    "\n",
    "I want you to generate a social media post for the latest technological research we are conducting.\n",
    "\n",
    "\"\"\""
   ]
  },
  {
   "cell_type": "code",
   "execution_count": 5,
   "id": "e9ee9b25",
   "metadata": {},
   "outputs": [
    {
     "data": {
      "text/markdown": [
       "Here’s a social media post in BrightWave Electronics’ friendly, upbeat voice:  \n",
       "\n",
       "---\n",
       "\n",
       "Innovation never rests at BrightWave! 🔬⚡ We’re exploring the latest breakthroughs in technology to bring you smarter, faster, and more sustainable devices. The future is being built today—and we can’t wait to share what’s next! ✨ #TechInnovation #BrightWaveElectronics  \n",
       "\n",
       "---  \n",
       "\n",
       "Would you like me to create a few variations you can use across different platforms (e.g., one optimized for Twitter/X, one for LinkedIn, one for Instagram)?"
      ],
      "text/plain": [
       "<IPython.core.display.Markdown object>"
      ]
     },
     "metadata": {},
     "output_type": "display_data"
    }
   ],
   "source": [
    "response_text = get_response(PROMPT, model=\"gpt-5-chat-latest\")\n",
    "display(Markdown(response_text))"
   ]
  },
  {
   "cell_type": "markdown",
   "id": "29cdbb33",
   "metadata": {},
   "source": [
    "### 3. Prompt Templates"
   ]
  },
  {
   "cell_type": "code",
   "execution_count": 6,
   "id": "8e3973f7",
   "metadata": {},
   "outputs": [],
   "source": [
    "# Class to define prompt template\n",
    "class PromptTemplate:\n",
    "    def __init__(self, template: str, input_variables: list[str]):\n",
    "        self.template = template\n",
    "        self.input_variables = input_variables\n",
    "\n",
    "    def generate(self, **kwargs) -> str:\n",
    "        return self.template.format(**{k: kwargs[k] for k in self.input_variables})"
   ]
  },
  {
   "cell_type": "code",
   "execution_count": 7,
   "id": "66fb9ca7",
   "metadata": {},
   "outputs": [],
   "source": [
    "# Basic prompt template\n",
    "basic_template = PromptTemplate(\n",
    "    template=\"Give me a 1 sentence introduction to the following topic: {topic}\",\n",
    "    input_variables=[\"topic\"]\n",
    ")"
   ]
  },
  {
   "cell_type": "code",
   "execution_count": 8,
   "id": "189a3ba9",
   "metadata": {},
   "outputs": [],
   "source": [
    "# Advanced prompt template\n",
    "advanced_template = PromptTemplate(\n",
    "    template=\"Given my age: {age}, height: {height}, and weight: {weight}, generate a fitness plan.\",\n",
    "    input_variables=[\"age\", \"height\", \"weight\"]\n",
    ")"
   ]
  },
  {
   "cell_type": "code",
   "execution_count": 10,
   "id": "95a4491d",
   "metadata": {},
   "outputs": [
    {
     "data": {
      "text/plain": [
       "'Give me a 1 sentence introduction to the following topic: Quantum Computing'"
      ]
     },
     "execution_count": 10,
     "metadata": {},
     "output_type": "execute_result"
    }
   ],
   "source": [
    "basic_template.generate(topic=\"Quantum Computing\")"
   ]
  },
  {
   "cell_type": "code",
   "execution_count": 11,
   "id": "2e286ce5",
   "metadata": {},
   "outputs": [
    {
     "data": {
      "text/plain": [
       "'Given my age: 30, height: 175, and weight: 70, generate a fitness plan.'"
      ]
     },
     "execution_count": 11,
     "metadata": {},
     "output_type": "execute_result"
    }
   ],
   "source": [
    "advanced_template.generate(age=30, height=175, weight=70)"
   ]
  },
  {
   "cell_type": "markdown",
   "id": "5a8697c2",
   "metadata": {},
   "source": [
    "### 4. Advanced Multi-Shot Learning"
   ]
  },
  {
   "cell_type": "code",
   "execution_count": 12,
   "id": "ebb04e3e",
   "metadata": {},
   "outputs": [],
   "source": [
    "# define our template\n",
    "multi_shot_template = PromptTemplate(\n",
    "    template=\"\"\"\n",
    "    Perform the specified task on the given text.\n",
    "        \n",
    "    Examples:\n",
    "    Text: I love this product! It's amazing.\n",
    "    Task: sentiment\n",
    "    Result: Positive\n",
    "    \n",
    "    Text: Bonjour, comment allez-vous?\n",
    "    Task: language\n",
    "    Result: French\n",
    "    \n",
    "    Now, perform the following task:\n",
    "    Text: {input_text}\n",
    "    Task: {task}\n",
    "    Result:\n",
    "\n",
    "\"\"\",\n",
    "input_variables=[\"input_text\", \"task\"]\n",
    ")"
   ]
  },
  {
   "cell_type": "code",
   "execution_count": 13,
   "id": "79672723",
   "metadata": {},
   "outputs": [],
   "source": [
    "PROMPT1 = multi_shot_template.generate(input_text=\"I don't think I like this product\", task=\"sentiment\")\n",
    "PROMPT2 = multi_shot_template.generate(input_text=\"Das Wetter ist heute sehr schön und die Sonne scheint.\", task=\"language\")"
   ]
  },
  {
   "cell_type": "code",
   "execution_count": 14,
   "id": "85c69d18",
   "metadata": {},
   "outputs": [
    {
     "data": {
      "text/plain": [
       "\"\\n    Perform the specified task on the given text.\\n\\n    Examples:\\n    Text: I love this product! It's amazing.\\n    Task: sentiment\\n    Result: Positive\\n\\n    Text: Bonjour, comment allez-vous?\\n    Task: language\\n    Result: French\\n\\n    Now, perform the following task:\\n    Text: I don't think I like this product\\n    Task: sentiment\\n    Result:\\n\\n\""
      ]
     },
     "execution_count": 14,
     "metadata": {},
     "output_type": "execute_result"
    }
   ],
   "source": [
    "PROMPT1"
   ]
  },
  {
   "cell_type": "code",
   "execution_count": 15,
   "id": "66f369b0",
   "metadata": {},
   "outputs": [
    {
     "data": {
      "text/plain": [
       "\"\\n    Perform the specified task on the given text.\\n\\n    Examples:\\n    Text: I love this product! It's amazing.\\n    Task: sentiment\\n    Result: Positive\\n\\n    Text: Bonjour, comment allez-vous?\\n    Task: language\\n    Result: French\\n\\n    Now, perform the following task:\\n    Text: Das Wetter ist heute sehr schön und die Sonne scheint.\\n    Task: language\\n    Result:\\n\\n\""
      ]
     },
     "execution_count": 15,
     "metadata": {},
     "output_type": "execute_result"
    }
   ],
   "source": [
    "PROMPT2"
   ]
  },
  {
   "cell_type": "code",
   "execution_count": 16,
   "id": "eeb5d022",
   "metadata": {},
   "outputs": [
    {
     "name": "stdout",
     "output_type": "stream",
     "text": [
      "Result: Negative\n"
     ]
    }
   ],
   "source": [
    "print(get_response(PROMPT1))"
   ]
  },
  {
   "cell_type": "code",
   "execution_count": 17,
   "id": "85cc7987",
   "metadata": {},
   "outputs": [
    {
     "name": "stdout",
     "output_type": "stream",
     "text": [
      "Result: German\n"
     ]
    }
   ],
   "source": [
    "print(get_response(PROMPT2))"
   ]
  }
 ],
 "metadata": {
  "kernelspec": {
   "display_name": "prompt-engineering",
   "language": "python",
   "name": "python3"
  },
  "language_info": {
   "codemirror_mode": {
    "name": "ipython",
    "version": 3
   },
   "file_extension": ".py",
   "mimetype": "text/x-python",
   "name": "python",
   "nbconvert_exporter": "python",
   "pygments_lexer": "ipython3",
   "version": "3.13.5"
  }
 },
 "nbformat": 4,
 "nbformat_minor": 5
}
