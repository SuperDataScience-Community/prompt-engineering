{
 "cells": [
  {
   "cell_type": "markdown",
   "id": "1e9e9106",
   "metadata": {},
   "source": [
    "# Zero Shot Prompting\n",
    "\n",
    "## Just a quick definition\n",
    "\n",
    "Prompt engineering is the process of designing and refining input prompts to guide large language models (LLMs) toward producing accurate, relevant, and useful outputs. It involves crafting clear instructions, providing context, and sometimes including examples to achieve the desired response from the model.\n",
    "\n",
    "**Zero-shot prompting** refers to providing a model with an instruction or question without any examples or prior demonstrations. The model generates a response based solely on its understanding of the prompt, leveraging its pre-trained knowledge."
   ]
  },
  {
   "cell_type": "markdown",
   "id": "36b60c1b",
   "metadata": {},
   "source": [
    "### Prompt Elements\n",
    "\n",
    "A prompt contains any of the following elements:\n",
    "\n",
    "**Instruction** - a specific task or instruction you want the model to perform\n",
    "\n",
    "**Context** - external information or additional context that can steer the model to better responses\n",
    "\n",
    "**Input Data** - the input or question that we are interested to find a response for\n",
    "\n",
    "**Output Indicator** - the type or format of the output."
   ]
  },
  {
   "cell_type": "code",
   "execution_count": 1,
   "id": "34dd5325",
   "metadata": {},
   "outputs": [],
   "source": [
    "import os\n",
    "from openai import OpenAI\n",
    "from IPython.display import display, Markdown\n",
    "from dotenv import load_dotenv\n",
    "load_dotenv()\n",
    "\n",
    "OPENAI_API_KEY = os.getenv(\"OPENAI_API_KEY\")\n",
    "if OPENAI_API_KEY is None:\n",
    "    raise ValueError(\"Please set the OPENAI_API_KEY environment variable.\")"
   ]
  },
  {
   "cell_type": "code",
   "execution_count": 2,
   "id": "b2b71096",
   "metadata": {},
   "outputs": [],
   "source": [
    "# define response function\n",
    "\n",
    "client = OpenAI()\n",
    "\n",
    "def get_response(prompt: str, model: str=\"gpt-5-chat-latest\") -> str:\n",
    "    response = client.responses.create(\n",
    "        model=model,\n",
    "        input=[\n",
    "            {\"role\": \"user\",\"content\": prompt}\n",
    "        ]\n",
    "    )\n",
    "    return response.output_text\n"
   ]
  },
  {
   "cell_type": "markdown",
   "id": "6d817ff0",
   "metadata": {},
   "source": [
    "### 1. Basic Zero-shot Prompting"
   ]
  },
  {
   "cell_type": "code",
   "execution_count": 3,
   "id": "552f847d",
   "metadata": {},
   "outputs": [],
   "source": [
    "MODEL = \"gpt-4o-mini\""
   ]
  },
  {
   "cell_type": "code",
   "execution_count": 4,
   "id": "3903086c",
   "metadata": {},
   "outputs": [
    {
     "data": {
      "text/markdown": [
       "Oh, absolutely, skip it! Who needs to understand how to communicate effectively with AI? Just shout into the void and hope for the best! That’s way more fun!"
      ],
      "text/plain": [
       "<IPython.core.display.Markdown object>"
      ]
     },
     "metadata": {},
     "output_type": "display_data"
    }
   ],
   "source": [
    "# prompt\n",
    "\n",
    "PROMPT = \"Give me a sarcastic and unhelpful reply to the question: Why should I learn prompt engineering?\"\n",
    "\n",
    "response_text = get_response(PROMPT,MODEL)\n",
    "display(Markdown(response_text))"
   ]
  },
  {
   "cell_type": "markdown",
   "id": "d4650534",
   "metadata": {},
   "source": [
    "### 2. Writing Clear and Concise Instructions"
   ]
  },
  {
   "cell_type": "code",
   "execution_count": 5,
   "id": "b159b6c2",
   "metadata": {},
   "outputs": [
    {
     "data": {
      "text/markdown": [
       "Sure! Here are some ideas based on different interests:\n",
       "\n",
       "### For the Fashion Lover\n",
       "- Stylish handbag\n",
       "- Trendy accessories (like a statement necklace or scarf)\n",
       "\n",
       "### For the Beauty Enthusiast\n",
       "- High-quality skincare products\n",
       "- A luxurious makeup palette\n",
       "\n",
       "### For the Bookworm\n",
       "- A book by her favorite author\n",
       "- A cozy reading nook setup (like a blanket and a nice mug)\n",
       "\n",
       "### For the Tech Savvy\n",
       "- Smart home gadgets (like a smart speaker)\n",
       "- Wireless earbuds or headphones\n",
       "\n",
       "### For the Hobbyist\n",
       "- Art supplies for a creative sister\n",
       "- A cooking kit or gourmet ingredients for a cooking enthusiast\n",
       "\n",
       "### For the Wellness Guru\n",
       "- Yoga mat or accessories\n",
       "- A subscription to a meditation app\n",
       "\n",
       "### For the Experience Lover\n",
       "- Tickets to a concert, play, or event she would enjoy\n",
       "- A spa day or massage gift certificate\n",
       "\n",
       "### Personalized Gifts\n",
       "- Custom jewelry with her initials\n",
       "- A photo book filled with memories you've shared\n",
       "\n",
       "What hobbies or interests does your sister have? That might help narrow it down further!"
      ],
      "text/plain": [
       "<IPython.core.display.Markdown object>"
      ]
     },
     "metadata": {},
     "output_type": "display_data"
    }
   ],
   "source": [
    "PROMPT = \"I need to buy a birthday present for my sister\"\n",
    "\n",
    "response_text = get_response(PROMPT,MODEL)\n",
    "display(Markdown(response_text))"
   ]
  },
  {
   "cell_type": "code",
   "execution_count": 6,
   "id": "b6d807b5",
   "metadata": {},
   "outputs": [
    {
     "data": {
      "text/markdown": [
       "1. A personalized pony-themed jewelry box.\n",
       "2. A cozy pony-themed blanket."
      ],
      "text/plain": [
       "<IPython.core.display.Markdown object>"
      ]
     },
     "metadata": {},
     "output_type": "display_data"
    }
   ],
   "source": [
    "PROMPT = \"I need to buy a birthday present for my sister. She is interested in ponies. Reply with only 2 options.\"\n",
    "\n",
    "response_text = get_response(PROMPT,MODEL)\n",
    "display(Markdown(response_text))"
   ]
  },
  {
   "cell_type": "markdown",
   "id": "c8128234",
   "metadata": {},
   "source": [
    "### 3. Task Specification"
   ]
  },
  {
   "cell_type": "code",
   "execution_count": 8,
   "id": "7923d78e",
   "metadata": {},
   "outputs": [],
   "source": [
    "PROMPT = \"\"\"\n",
    "\n",
    "Classify the following text into one of the following categories: [Animals, Technology, Food]\n",
    "\n",
    "1. Animals\n",
    "2. Technology\n",
    "3. Food\n",
    "\n",
    "Text: My dog loves to play with his new toy.\n",
    "\n",
    "\"\"\""
   ]
  },
  {
   "cell_type": "code",
   "execution_count": 9,
   "id": "494533d7",
   "metadata": {},
   "outputs": [
    {
     "data": {
      "text/markdown": [
       "Category: Animals"
      ],
      "text/plain": [
       "<IPython.core.display.Markdown object>"
      ]
     },
     "metadata": {},
     "output_type": "display_data"
    }
   ],
   "source": [
    "response_text = get_response(PROMPT,MODEL)\n",
    "display(Markdown(response_text))"
   ]
  },
  {
   "cell_type": "markdown",
   "id": "90a15a39",
   "metadata": {},
   "source": [
    "## Resources\n",
    "- [Lee et al](https://arxiv.org/pdf/2406.13121) - More complex prompt structures\n",
    "- [Best Practices for Prompt Engineering by OpenAI API](https://help.openai.com/en/articles/6654000-best-practices-for-prompt-engineering-with-the-openai-api)\n",
    "- [GPT-5 Prompting Guide](https://cookbook.openai.com/examples/gpt-5/gpt-5_prompting_guide)\n",
    "- [GPT-4.1 Prompting Guide](https://cookbook.openai.com/examples/gpt4-1_prompting_guide)\n",
    "- [Prompt Engineering Repo](https://github.com/dair-ai/Prompt-Engineering-Guide) - A fantastic resource on more advanced prompt engineering tactics"
   ]
  }
 ],
 "metadata": {
  "kernelspec": {
   "display_name": "prompt-engineering",
   "language": "python",
   "name": "python3"
  },
  "language_info": {
   "codemirror_mode": {
    "name": "ipython",
    "version": 3
   },
   "file_extension": ".py",
   "mimetype": "text/x-python",
   "name": "python",
   "nbconvert_exporter": "python",
   "pygments_lexer": "ipython3",
   "version": "3.13.5"
  }
 },
 "nbformat": 4,
 "nbformat_minor": 5
}
